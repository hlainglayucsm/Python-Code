{
 "cells": [
  {
   "cell_type": "code",
   "execution_count": 2,
   "metadata": {},
   "outputs": [
    {
     "name": "stderr",
     "output_type": "stream",
     "text": [
      "[nltk_data] Downloading package wordnet to\n",
      "[nltk_data]     C:\\Users\\Bundit505\\AppData\\Roaming\\nltk_data...\n",
      "[nltk_data]   Unzipping corpora\\wordnet.zip.\n"
     ]
    },
    {
     "name": "stdout",
     "output_type": "stream",
     "text": [
      "<class 'nltk.corpus.reader.wordnet.Synset'>\n"
     ]
    },
    {
     "data": {
      "text/plain": [
       "0.2"
      ]
     },
     "execution_count": 2,
     "metadata": {},
     "output_type": "execute_result"
    }
   ],
   "source": [
    "import nltk\n",
    "nltk.download('wordnet')\n",
    "from nltk.corpus import wordnet as wn\n",
    "dogs = wn.synsets('dog')\n",
    "cats = wn.synsets('cats')\n",
    "first_dog = dogs[0]\n",
    "first_cat = cats[0]\n",
    "print(type(first_dog))\n",
    "type(first_dog), type(first_cat)\n",
    "first_dog.path_similarity(first_cat)"
   ]
  },
  {
   "cell_type": "code",
   "execution_count": 9,
   "metadata": {},
   "outputs": [
    {
     "name": "stdout",
     "output_type": "stream",
     "text": [
      "wife and husband 0.3333333333333333\n"
     ]
    }
   ],
   "source": [
    "wife_set = wn.synsets('wife')\n",
    "husband_set = wn.synsets('husband')\n",
    "wife=wife_set[0]\n",
    "husband=husband_set[0]\n",
    "print(\"wife and husband\",wife.path_similarity(husband))\n"
   ]
  },
  {
   "cell_type": "code",
   "execution_count": 11,
   "metadata": {},
   "outputs": [
    {
     "name": "stdout",
     "output_type": "stream",
     "text": [
      "groom and bride 0.1111111111111111\n"
     ]
    }
   ],
   "source": [
    "groom_set=wn.synsets('groom')\n",
    "bride_set=wn.synsets('bride')\n",
    "groom=groom_set[0]\n",
    "bride=bride_set[0]\n",
    "print(\"groom and bride\",groom.path_similarity(bride))"
   ]
  },
  {
   "cell_type": "code",
   "execution_count": 13,
   "metadata": {},
   "outputs": [
    {
     "name": "stdout",
     "output_type": "stream",
     "text": [
      "lemon and tea 0.09090909090909091\n"
     ]
    }
   ],
   "source": [
    "lemon_set=wn.synsets('lemon')\n",
    "tea_set=wn.synsets('tea')\n",
    "lemon=lemon_set[0]\n",
    "tea=tea_set[0]\n",
    "print(\"lemon and tea\",lemon.path_similarity(tea))"
   ]
  },
  {
   "cell_type": "code",
   "execution_count": 14,
   "metadata": {},
   "outputs": [
    {
     "name": "stdout",
     "output_type": "stream",
     "text": [
      "dog and cat 0.2\n"
     ]
    }
   ],
   "source": [
    "dog_set=wn.synsets('dog')\n",
    "cat_set=wn.synsets('cat')\n",
    "dog=dog_set[0]\n",
    "cat=cat_set[0]\n",
    "print(\"dog and cat\",dog.path_similarity(cat))"
   ]
  },
  {
   "cell_type": "code",
   "execution_count": 15,
   "metadata": {},
   "outputs": [
    {
     "name": "stdout",
     "output_type": "stream",
     "text": [
      "spoon and cup 0.3333333333333333\n"
     ]
    }
   ],
   "source": [
    "spoon_set=wn.synsets('spoon')\n",
    "cup_set=wn.synsets('cup')\n",
    "spoon=spoon_set[0]\n",
    "cup=cup_set[0]\n",
    "print(\"spoon and cup\",spoon.path_similarity(cup))"
   ]
  },
  {
   "cell_type": "code",
   "execution_count": 19,
   "metadata": {},
   "outputs": [
    {
     "name": "stdout",
     "output_type": "stream",
     "text": [
      "Synset('forget.v.01')\n",
      "remember and forget 0.3333333333333333\n"
     ]
    }
   ],
   "source": [
    "remember_set=wn.synsets('remember')\n",
    "forger_set=wn.synsets('forget')\n",
    "remember=remember_set[0]\n",
    "forget=forger_set[0]\n",
    "print(forget)\n",
    "print(\"remember and forget\",remember.path_similarity(forget))"
   ]
  },
  {
   "cell_type": "code",
   "execution_count": 22,
   "metadata": {},
   "outputs": [
    {
     "name": "stdout",
     "output_type": "stream",
     "text": [
      "champion and victro 0.631578947368421\n"
     ]
    }
   ],
   "source": [
    "#Wup Similarity\n",
    "champion_set=wn.synsets('champion')\n",
    "victor_set=wn.synsets('victor')\n",
    "print(\"champion and victro\",champion_set[0].wup_similarity(victor_set[0]))\n"
   ]
  },
  {
   "cell_type": "code",
   "execution_count": 23,
   "metadata": {},
   "outputs": [
    {
     "name": "stdout",
     "output_type": "stream",
     "text": [
      "start and begin 0.13333333333333333\n"
     ]
    }
   ],
   "source": [
    "#Wup Similarity\n",
    "start_set=wn.synsets('start')\n",
    "begin_set=wn.synsets('begin')\n",
    "print(\"start and begin\",start_set[0].wup_similarity(begin_set[0]))\n"
   ]
  },
  {
   "cell_type": "code",
   "execution_count": 24,
   "metadata": {},
   "outputs": [
    {
     "name": "stdout",
     "output_type": "stream",
     "text": [
      "accept and acknowledge 0.5714285714285714\n"
     ]
    }
   ],
   "source": [
    "#Wup Similarity\n",
    "accept_set=wn.synsets('accept')\n",
    "acknowledge_set=wn.synsets('acknowledge')\n",
    "print(\"accept and acknowledge\",accept_set[0].wup_similarity(acknowledge_set[0]))"
   ]
  },
  {
   "cell_type": "code",
   "execution_count": 25,
   "metadata": {},
   "outputs": [
    {
     "name": "stdout",
     "output_type": "stream",
     "text": [
      "floor and deck 0.8235294117647058\n"
     ]
    }
   ],
   "source": [
    "#Wup Similarity\n",
    "floor_set=wn.synsets('floor')\n",
    "deck_set=wn.synsets('deck')\n",
    "print(\"floor and deck\",floor_set[0].wup_similarity(deck_set[0]))"
   ]
  },
  {
   "cell_type": "code",
   "execution_count": 26,
   "metadata": {},
   "outputs": [
    {
     "name": "stdout",
     "output_type": "stream",
     "text": [
      "leader and manager 0.631578947368421\n"
     ]
    }
   ],
   "source": [
    "#Wup Similarity\n",
    "leader_set=wn.synsets('leader')\n",
    "manager_set=wn.synsets('manager')\n",
    "print(\"leader and manager\",leader_set[0].wup_similarity(manager_set[0]))"
   ]
  },
  {
   "cell_type": "code",
   "execution_count": 27,
   "metadata": {},
   "outputs": [
    {
     "name": "stdout",
     "output_type": "stream",
     "text": [
      "protect and defend 0.2\n"
     ]
    }
   ],
   "source": [
    "#Wup Similarity\n",
    "protect_set=wn.synsets('protect')\n",
    "defend_set=wn.synsets('defend')\n",
    "print(\"protect and defend\",protect_set[0].wup_similarity(defend_set[0]))"
   ]
  },
  {
   "cell_type": "code",
   "execution_count": 3,
   "metadata": {},
   "outputs": [
    {
     "name": "stdout",
     "output_type": "stream",
     "text": [
      "champion and victor 0.16666666666666666\n"
     ]
    }
   ],
   "source": [
    "#Path Similarity\n",
    "champion_set=wn.synsets('champion')\n",
    "victor_set=wn.synsets('victor')\n",
    "print(\"champion and victor\",champion_set[0].path_similarity(victor_set[0]))"
   ]
  },
  {
   "cell_type": "code",
   "execution_count": 5,
   "metadata": {},
   "outputs": [
    {
     "name": "stdout",
     "output_type": "stream",
     "text": [
      "start and begin 0.07142857142857142\n"
     ]
    }
   ],
   "source": [
    "start_set=wn.synsets('start')\n",
    "begin_set=wn.synsets('begin')\n",
    "print(\"start and begin\",start_set[0].path_similarity(begin_set[0]))"
   ]
  },
  {
   "cell_type": "code",
   "execution_count": 13,
   "metadata": {},
   "outputs": [
    {
     "name": "stdout",
     "output_type": "stream",
     "text": [
      "accept and acknowledge 0.25\n"
     ]
    }
   ],
   "source": [
    "accept_set=wn.synsets('accept')\n",
    "acknowledge_set=wn.synsets('acknowledge')\n",
    "print(\"accept and acknowledge\",accept_set[0].path_similarity(acknowledge_set[0]))"
   ]
  },
  {
   "cell_type": "code",
   "execution_count": 14,
   "metadata": {},
   "outputs": [
    {
     "name": "stdout",
     "output_type": "stream",
     "text": [
      "floor and deck 0.25\n"
     ]
    }
   ],
   "source": [
    "floor_set=wn.synsets('floor')\n",
    "deck_set=wn.synsets('deck')\n",
    "print(\"floor and deck\",floor_set[0].path_similarity(deck_set[0]))"
   ]
  },
  {
   "cell_type": "code",
   "execution_count": 16,
   "metadata": {},
   "outputs": [
    {
     "name": "stdout",
     "output_type": "stream",
     "text": [
      "leader and manager 0.25\n"
     ]
    }
   ],
   "source": [
    "leader_set=wn.synsets('leader')\n",
    "manager_set=wn.synsets('manager')\n",
    "print(\"leader and manager\",leader_set[0].path_similarity(manager_set[0]))\n"
   ]
  },
  {
   "cell_type": "code",
   "execution_count": 17,
   "metadata": {},
   "outputs": [
    {
     "name": "stdout",
     "output_type": "stream",
     "text": [
      "protect and defend 0.1111111111111111\n"
     ]
    }
   ],
   "source": [
    "protect_set=wn.synsets('protect')\n",
    "defend_set=wn.synsets('defend')\n",
    "print(\"protect and defend\",protect_set[0].path_similarity(defend_set[0]))"
   ]
  },
  {
   "cell_type": "code",
   "execution_count": 26,
   "metadata": {},
   "outputs": [
    {
     "name": "stdout",
     "output_type": "stream",
     "text": [
      "wife and husband 0.5\n"
     ]
    }
   ],
   "source": [
    "wife_set=wn.synsets('remember')\n",
    "husband_set=wn.synsets('forget')\n",
    "print(\"wife and husband\",wife_set[0].wup_similarity(husband_set[0]))"
   ]
  },
  {
   "cell_type": "code",
   "execution_count": null,
   "metadata": {},
   "outputs": [],
   "source": []
  }
 ],
 "metadata": {
  "kernelspec": {
   "display_name": "Python 3",
   "language": "python",
   "name": "python3"
  },
  "language_info": {
   "codemirror_mode": {
    "name": "ipython",
    "version": 3
   },
   "file_extension": ".py",
   "mimetype": "text/x-python",
   "name": "python",
   "nbconvert_exporter": "python",
   "pygments_lexer": "ipython3",
   "version": "3.7.4"
  }
 },
 "nbformat": 4,
 "nbformat_minor": 2
}
